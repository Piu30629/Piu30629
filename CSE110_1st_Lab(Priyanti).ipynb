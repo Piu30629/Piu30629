{
  "nbformat": 4,
  "nbformat_minor": 0,
  "metadata": {
    "colab": {
      "provenance": []
    },
    "kernelspec": {
      "name": "python3",
      "display_name": "Python 3"
    },
    "language_info": {
      "name": "python"
    }
  },
  "cells": [
    {
      "cell_type": "code",
      "execution_count": null,
      "metadata": {
        "colab": {
          "base_uri": "https://localhost:8080/"
        },
        "id": "hf2eOHC3hXCt",
        "outputId": "336f3735-a186-4d40-9f5c-5ff886117430"
      },
      "outputs": [
        {
          "output_type": "stream",
          "name": "stdout",
          "text": [
            "Enter a string:hello world\n",
            "Enter a integer:21\n",
            "hello world\n",
            "21\n"
          ]
        }
      ],
      "source": [
        "var1=input(\"Enter a string:\")\n",
        "var2=(input(\"Enter a integer:\"))\n",
        "print(var1)\n",
        "print(var2)"
      ]
    },
    {
      "cell_type": "code",
      "source": [
        "num1=int(input())\n",
        "num2=int(input())\n",
        "print(\"Summation:\",num1+num2)\n",
        "print(\"Multiplicacation\",num1*num2)"
      ],
      "metadata": {
        "colab": {
          "base_uri": "https://localhost:8080/"
        },
        "id": "eEtgeXxulvFf",
        "outputId": "ef35aead-fa9d-4281-e4c6-39240ebcc22b"
      },
      "execution_count": null,
      "outputs": [
        {
          "output_type": "stream",
          "name": "stdout",
          "text": [
            "10\n",
            "5\n",
            "Summation: 15\n",
            "Multiplicacation 50\n"
          ]
        }
      ]
    },
    {
      "cell_type": "code",
      "source": [
        "num1=int(input(\"Enter an integer\"))\n",
        "num2=float(input(\"Enter a float\"))\n",
        "add=num1+num2\n",
        "sub=num1-num2\n",
        "print(add,end=\" \")\n",
        "print(sub)"
      ],
      "metadata": {
        "colab": {
          "base_uri": "https://localhost:8080/"
        },
        "id": "xZpl3jzLnE92",
        "outputId": "88a8e522-fa9e-4ff5-d1bb-fafbb79a7622"
      },
      "execution_count": null,
      "outputs": [
        {
          "output_type": "stream",
          "name": "stdout",
          "text": [
            "Enter an integer4\n",
            "Enter a float5\n",
            "9.0 -1.0\n"
          ]
        }
      ]
    },
    {
      "cell_type": "code",
      "source": [
        "num1=int(input())\n",
        "num2=int(input())\n",
        "num2=(float(num2))\n",
        "result=(str(num1)+str(num2))\n",
        "print(result)"
      ],
      "metadata": {
        "colab": {
          "base_uri": "https://localhost:8080/"
        },
        "id": "hjD3kTceoZc6",
        "outputId": "26fa42a3-a965-4126-da39-bfbb99b53904"
      },
      "execution_count": null,
      "outputs": [
        {
          "output_type": "stream",
          "name": "stdout",
          "text": [
            "2\n",
            "3\n",
            "23.0\n"
          ]
        }
      ]
    },
    {
      "cell_type": "code",
      "source": [
        "num1=int(input())\n",
        "num2=int(input())\n",
        "res=num1**num2\n",
        "print(str(num1)+\"^\"+str(num2)+\":\"+str(res))"
      ],
      "metadata": {
        "colab": {
          "base_uri": "https://localhost:8080/"
        },
        "id": "BwkFOZtdqv_Z",
        "outputId": "736b7d8f-d707-4a92-9f22-b698083660d5"
      },
      "execution_count": null,
      "outputs": [
        {
          "output_type": "stream",
          "name": "stdout",
          "text": [
            "2\n",
            "3\n",
            "2^3:8\n"
          ]
        }
      ]
    },
    {
      "cell_type": "code",
      "source": [
        "num1=int((input()))\n",
        "num2=int(input())\n",
        "res=num1**num2\n",
        "print(str(num1)+\"^\"+str(num2)+\":\"+str(res))\n"
      ],
      "metadata": {
        "colab": {
          "base_uri": "https://localhost:8080/"
        },
        "id": "HJeG6dyVsA4W",
        "outputId": "f4f87826-3a45-45da-be64-88cd962881f7"
      },
      "execution_count": null,
      "outputs": [
        {
          "output_type": "stream",
          "name": "stdout",
          "text": [
            "10\n",
            "3\n",
            "10^3:1000\n"
          ]
        }
      ]
    },
    {
      "cell_type": "code",
      "source": [
        "weight=int(input(\"Enter a number\"))\n",
        "each=(weight//4)\n",
        "total=(each*4)\n",
        "print(total)\n",
        "\n",
        "\n",
        "\n",
        "\n"
      ],
      "metadata": {
        "colab": {
          "base_uri": "https://localhost:8080/"
        },
        "id": "DS4nj6pNu54O",
        "outputId": "18b5633f-27aa-4ac2-8d60-a163d00c65ec"
      },
      "execution_count": null,
      "outputs": [
        {
          "output_type": "stream",
          "name": "stdout",
          "text": [
            "Enter a number9\n",
            "8\n"
          ]
        }
      ]
    },
    {
      "cell_type": "code",
      "source": [
        "A=int(input())\n",
        "B=int(input())\n",
        "C=int(input())\n",
        "D=float((input()))\n",
        "\n",
        "print(int((A**C)+(2*B)*(A//2)-D/2))"
      ],
      "metadata": {
        "colab": {
          "base_uri": "https://localhost:8080/"
        },
        "id": "NdY32Uj5w4hy",
        "outputId": "f771b8b0-dc12-46ef-95ca-b2e6ab2bcc5d"
      },
      "execution_count": null,
      "outputs": [
        {
          "output_type": "stream",
          "name": "stdout",
          "text": [
            "2\n",
            "6\n",
            "8\n",
            "1.3\n",
            "267\n"
          ]
        }
      ]
    },
    {
      "cell_type": "code",
      "source": [
        "name1=input(\"Enter a First Name:\")\n",
        "name2=input(\"Enter a Last Name:\")\n",
        "\n",
        "num1=int(input(\"Enter an Age:\"))\n",
        "num1-=2\n",
        "num2=float(input(\"Enter a CGPA:\"))\n",
        "num2+=.25\n",
        "print(name1,\"Rahman\")\n",
        "\n",
        "print((num1))\n",
        "print((num2))"
      ],
      "metadata": {
        "colab": {
          "base_uri": "https://localhost:8080/"
        },
        "id": "hDUBN54TVceR",
        "outputId": "ebeaedb9-542e-4c54-d81f-b11e4f0fbb13"
      },
      "execution_count": null,
      "outputs": [
        {
          "output_type": "stream",
          "name": "stdout",
          "text": [
            "Enter a First Name:Labiba\n",
            "Enter a Last Name:Arif\n",
            "Enter an Age:23\n",
            "Enter a CGPA:3.7\n",
            "Labiba Rahman\n",
            "21\n",
            "3.95\n"
          ]
        }
      ]
    }
  ]
}